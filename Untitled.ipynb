{
 "cells": [
  {
   "cell_type": "code",
   "execution_count": 1,
   "id": "03466608-963c-4d52-a679-09f784577cb1",
   "metadata": {},
   "outputs": [],
   "source": [
    "import pandas as pd\n",
    "df = pd.read_csv('C:/Users/prakh/Desktop/credit-card-customers-analysis/data/Cleaned_bankchurnes.csv')"
   ]
  },
  {
   "cell_type": "code",
   "execution_count": null,
   "id": "730c2780-56ab-48d9-a1a7-9a72fd80661e",
   "metadata": {},
   "outputs": [],
   "source": []
  }
 ],
 "metadata": {
  "kernelspec": {
   "display_name": "Python 3 (ipykernel)",
   "language": "python",
   "name": "python3"
  },
  "language_info": {
   "codemirror_mode": {
    "name": "ipython",
    "version": 3
   },
   "file_extension": ".py",
   "mimetype": "text/x-python",
   "name": "python",
   "nbconvert_exporter": "python",
   "pygments_lexer": "ipython3",
   "version": "3.12.3"
  }
 },
 "nbformat": 4,
 "nbformat_minor": 5
}
